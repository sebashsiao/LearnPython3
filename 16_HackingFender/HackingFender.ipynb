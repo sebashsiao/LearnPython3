{
 "cells": [
  {
   "cell_type": "markdown",
   "source": [
    "LEARN PYTHON 3\n",
    "# Hacking The Fender"
   ],
   "metadata": {
    "collapsed": false
   },
   "id": "5bbc2071f806494a"
  },
  {
   "cell_type": "markdown",
   "source": [
    "The Fender, a notorious computer hacker and general villain of the people, has compromised several top-secret passwords including your own. Your mission, should you choose to accept it, is threefold. You must acquire access to The Fender‘s systems, you must update his \"passwords.txt\" file to scramble the secret data. The last thing you need to do is add the signature of Slash Null, a different hacker whose nefarious deeds could be very conveniently halted by The Fender if they viewed Slash Null as a threat.\n",
    "\n",
    "Use your knowledge of working with Python files to retrieve, manipulate, obscure, and create data in your quest for justice. Work with CSV files and other text files in this exploration of the strength of Python file programming.\n",
    "\n",
    "If you get stuck during this project, check out the project walkthrough video which can be found in the help menu.\n",
    "\n",
    "\n"
   ],
   "metadata": {
    "collapsed": false
   },
   "id": "9b6a6f84c48af424"
  },
  {
   "cell_type": "markdown",
   "source": [
    "## Reading In The Passwords"
   ],
   "metadata": {
    "collapsed": false
   },
   "id": "ac52119ea1de7e37"
  },
  {
   "cell_type": "markdown",
   "source": [
    "1.\n",
    "Are you there? We’ve opened up a communications link to The Fender‘s secret computer. We need you to write a program that will read in the compromised usernames and passwords that are stored in a file called \"passwords.csv\".\n",
    "\n",
    "First import the CSV module, since we’ll be needing it to parse the data."
   ],
   "metadata": {
    "collapsed": false
   },
   "id": "9bb52f29206d3792"
  },
  {
   "cell_type": "code",
   "execution_count": 104,
   "outputs": [],
   "source": [
    "import csv"
   ],
   "metadata": {
    "collapsed": false,
    "ExecuteTime": {
     "end_time": "2023-10-01T22:50:41.126448Z",
     "start_time": "2023-10-01T22:50:41.067790Z"
    }
   },
   "id": "4a8aa109f2279993"
  },
  {
   "cell_type": "markdown",
   "source": [
    "2.\n",
    "We need to create a list of users whose passwords have been compromised, create a new list and save it to the variable compromised_users."
   ],
   "metadata": {
    "collapsed": false
   },
   "id": "bf84dcacee1c46a2"
  },
  {
   "cell_type": "code",
   "execution_count": 105,
   "outputs": [],
   "source": [
    "compromised_users = []"
   ],
   "metadata": {
    "collapsed": false,
    "ExecuteTime": {
     "end_time": "2023-10-01T22:50:41.127016Z",
     "start_time": "2023-10-01T22:50:41.072736Z"
    }
   },
   "id": "eba49544cd7a1ad8"
  },
  {
   "cell_type": "markdown",
   "source": [
    "3.\n",
    "Next we’ll need you to open up the file itself. Store it in a file object called password_file."
   ],
   "metadata": {
    "collapsed": false
   },
   "id": "75b70235da22bd68"
  },
  {
   "cell_type": "markdown",
   "source": [
    "4.\n",
    "Pass the password_file object holder to our CSV reader for parsing. Save the parsed csv.DictReader object as password_csv.\n",
    "\n",
    "\n"
   ],
   "metadata": {
    "collapsed": false
   },
   "id": "97c98fccc2739308"
  },
  {
   "cell_type": "markdown",
   "source": [
    "5.\n",
    "Now we’ll want to iterate through each of the lines in the CSV.\n",
    "\n",
    "Create a for loop and save each row of the CSV into the temporary variable password_row.\n"
   ],
   "metadata": {
    "collapsed": false
   },
   "id": "43e786cee839f6ac"
  },
  {
   "cell_type": "markdown",
   "source": [
    "6.\n",
    "Inside your for loop, print out password_row['Username']. This is the username of the person whose password was compromised.\n",
    "\n",
    "Run your code, do you see a list of usernames?\n"
   ],
   "metadata": {
    "collapsed": false
   },
   "id": "5e0fbb940caf791"
  },
  {
   "cell_type": "code",
   "execution_count": 106,
   "outputs": [
    {
     "name": "stdout",
     "output_type": "stream",
     "text": [
      "jean49\n",
      "haydenashley\n",
      "michaelastephens\n",
      "denisephillips\n",
      "andrew24\n",
      "kaylaabbott\n",
      "tmartinez\n",
      "mholden\n",
      "randygilbert\n",
      "watsonlouis\n",
      "mdavis\n",
      "patrickprice\n",
      "kgriffith\n",
      "hannasarah\n",
      "xaviermartin\n",
      "hrodriguez\n",
      "erodriguez\n",
      "danielleclark\n",
      "timothy26\n",
      "elizabeth19\n",
      "}\n"
     ]
    }
   ],
   "source": [
    "with open('passwords.csv') as password_file:\n",
    "    password_csv = csv.DictReader(password_file)\n",
    "    for pass_row in password_csv:\n",
    "        print(pass_row['Username'])\n",
    "    "
   ],
   "metadata": {
    "collapsed": false,
    "ExecuteTime": {
     "end_time": "2023-10-01T22:50:41.171536Z",
     "start_time": "2023-10-01T22:50:41.081244Z"
    }
   },
   "id": "5da2ce8c46ffec37"
  },
  {
   "cell_type": "markdown",
   "source": [
    "7.\n",
    "Remove the print statement. We want to add each username to the list of compromised_users. Use the list’s .append() method to add the username to compromised_users instead of printing them.\n",
    "\n",
    "\n"
   ],
   "metadata": {
    "collapsed": false
   },
   "id": "d17824013dfb3b4a"
  },
  {
   "cell_type": "code",
   "execution_count": 107,
   "outputs": [],
   "source": [
    "with open('passwords.csv') as password_file:\n",
    "    password_csv = csv.DictReader(password_file)\n",
    "    for password_row in password_csv:\n",
    "        compromised_users.append(password_row['Username'])"
   ],
   "metadata": {
    "collapsed": false,
    "ExecuteTime": {
     "end_time": "2023-10-01T22:50:41.172877Z",
     "start_time": "2023-10-01T22:50:41.086972Z"
    }
   },
   "id": "72cdec147eb3799d"
  },
  {
   "cell_type": "markdown",
   "source": [
    "8.\n",
    "Exit out of your with block for \"passwords.csv\". We have all the data we need from that file.\n",
    "\n",
    "Start a new with block, opening a file called compromised_users.txt. Open this file in write-mode, saving the file object as compromised_user_file."
   ],
   "metadata": {
    "collapsed": false
   },
   "id": "92e28cbb8882ec7a"
  },
  {
   "cell_type": "markdown",
   "source": [
    "9.\n",
    "Inside the new context-managed block opened by the with statement start a new for loop.\n",
    "\n",
    "Iterate over each of your compromised_users.\n"
   ],
   "metadata": {
    "collapsed": false
   },
   "id": "f1c2f6585bfccfa7"
  },
  {
   "cell_type": "markdown",
   "source": [
    "10.\n",
    "Write the username of each compromised_user in compromised_users to compromised_user_file.\n",
    "\n",
    "\n"
   ],
   "metadata": {
    "collapsed": false
   },
   "id": "62a4fb9a541e04d7"
  },
  {
   "cell_type": "code",
   "execution_count": 108,
   "outputs": [],
   "source": [
    "with open('compromised_users.txt', 'w') as compromised_user_file:\n",
    "    for compromised_user in compromised_users:\n",
    "        compromised_user_file.write(compromised_user)\n",
    "    "
   ],
   "metadata": {
    "collapsed": false,
    "ExecuteTime": {
     "end_time": "2023-10-01T22:50:41.173839Z",
     "start_time": "2023-10-01T22:50:41.092631Z"
    }
   },
   "id": "11bb72de0f0df5bb"
  },
  {
   "cell_type": "markdown",
   "source": [
    "11.\n",
    "Exit out of that with block. You’re doing great so far! We’ve got the data we need to employ as insurance against The Fender.\n",
    "\n",
    "## Notifying the Boss"
   ],
   "metadata": {
    "collapsed": false
   },
   "id": "4f2b9d359efa957e"
  },
  {
   "cell_type": "markdown",
   "source": [
    "12.\n",
    "Your boss needs to know that you were successful in retrieving that compromised data. We’ll need to send him an encoded message over the internet. Let’s use JSON to do that.\n",
    "\n",
    "First we’ll need to import the json module.\n"
   ],
   "metadata": {
    "collapsed": false
   },
   "id": "8611c23b597d03ca"
  },
  {
   "cell_type": "code",
   "execution_count": 109,
   "outputs": [],
   "source": [
    "import json"
   ],
   "metadata": {
    "collapsed": false,
    "ExecuteTime": {
     "end_time": "2023-10-01T22:50:41.173965Z",
     "start_time": "2023-10-01T22:50:41.097790Z"
    }
   },
   "id": "9f62bf515865c20d"
  },
  {
   "cell_type": "markdown",
   "source": [
    "13.\n",
    "Open a new JSON file in write-mode called boss_message.json. Save the file object to the variable boss_message."
   ],
   "metadata": {
    "collapsed": false
   },
   "id": "6e2f9960a0cf890c"
  },
  {
   "cell_type": "markdown",
   "source": [
    "14.\n",
    "Create a Python dictionary object within your with statement that relays a boss message. Call this boss_message_dict.\n",
    "\n",
    "Give it a \"recipient\" key with a value \"The Boss\".\n",
    "\n",
    "Also give it a \"message\" key with the value \"Mission Success\"."
   ],
   "metadata": {
    "collapsed": false
   },
   "id": "a26f6440c044334e"
  },
  {
   "cell_type": "markdown",
   "source": [
    "15.\n",
    "Write out boss_message_dict to boss_message using json.dump()."
   ],
   "metadata": {
    "collapsed": false
   },
   "id": "c3bc24ec627ee1a6"
  },
  {
   "cell_type": "code",
   "execution_count": 110,
   "outputs": [],
   "source": [
    "with open('boss_message.json', 'w') as boss_message:\n",
    "    boss_message_dict = {\n",
    "        'recipient': 'The Boss',\n",
    "        'message': 'Mission Success'\n",
    "    }\n",
    "    json.dump(boss_message_dict, boss_message)"
   ],
   "metadata": {
    "collapsed": false,
    "ExecuteTime": {
     "end_time": "2023-10-01T22:50:41.174914Z",
     "start_time": "2023-10-01T22:50:41.105114Z"
    }
   },
   "id": "e44ac79ef3a787ab"
  },
  {
   "cell_type": "markdown",
   "source": [
    "## Scrambling the Password"
   ],
   "metadata": {
    "collapsed": false
   },
   "id": "bc0204a680678f10"
  },
  {
   "cell_type": "markdown",
   "source": [
    "16.\n",
    "Now that we’ve safely recovered the compromised users we’ll want to remove the \"passwords.csv\" file completely.\n",
    "\n",
    "Create a new with block and open \"new_passwords.csv\" in write-mode. Save the file object to a variable called new_passwords_obj."
   ],
   "metadata": {
    "collapsed": false
   },
   "id": "143ded90e75164db"
  },
  {
   "cell_type": "markdown",
   "source": [
    "17.\n",
    "Enemy of the people, Slash Null, is who we want The Fender to think was behind this attack. He has a signature, whenever he hacks someone he adds this signature to one of the files he touches. Here is the signature:\n",
    "\n",
    "```\n",
    " _  _     ___   __  ____\n",
    "/ )( \\   / __) /  \\(_  _)\n",
    ") \\/ (  ( (_ \\(  O ) )(\n",
    "\\____/   \\___/ \\__/ (__)\n",
    " _  _   __    ___  __ _  ____  ____\n",
    "/ )( \\ / _\\  / __)(  / )(  __)(    \\\n",
    ") __ (/    \\( (__  )  (  ) _)  ) D (\n",
    "\\_)(_/\\_/\\_/ \\___)(__\\_)(____)(____/\n",
    "        ____  __     __   ____  _  _\n",
    " ___   / ___)(  )   / _\\ / ___)/ )( \\\n",
    "(___)  \\___ \\/ (_/\\/    \\\\___ \\) __ (\n",
    "       (____/\\____/\\_/\\_/(____/\\_)(_/\n",
    " __ _  _  _  __    __\n",
    "(  ( \\/ )( \\(  )  (  )\n",
    "/    /) \\/ (/ (_/\\/ (_/\\\n",
    "\\_)__)\\____/\\____/\\____/\n",
    "```\n",
    "\n",
    "Save that as a multiline string to the variable slash_null_sig.\n",
    "\n",
    "\n"
   ],
   "metadata": {
    "collapsed": false
   },
   "id": "d4e39dd29d739f6c"
  },
  {
   "cell_type": "markdown",
   "source": [
    "18.\n",
    "Write slash_null_sig to new_passwords_obj. Now we have the file to replace passwords.csv with!\n"
   ],
   "metadata": {
    "collapsed": false
   },
   "id": "51b278135aab2ac5"
  },
  {
   "cell_type": "code",
   "execution_count": 111,
   "outputs": [
    {
     "name": "stdout",
     "output_type": "stream",
     "text": [
      "\n",
      "     _  _     ___   __  ____\n",
      "    / )( \\   / __) /  \\(_  _)\n",
      "    ) \\/ (  ( (_ \\(  O ) )(\n",
      "    \\____/   \\___/ \\__/ (__)\n",
      "     _  _   __    ___  __ _  ____  ____\n",
      "    / )( \\ / _\\  / __)(  / )(  __)(    \\ \n",
      "    ) __ (/    \\( (__  )  (  ) _)  ) D (\n",
      "    \\_)(_/\\_/\\_/ \\___)(__\\_)(____)(____/\n",
      "            ____  __     __   ____  _  _\n",
      "     ___   / ___)(  )   / _\\ / ___)/ )( \\ \n",
      "    (___)  \\___ \\/ (_/\\/    .\\___ \\) __ (\n",
      "           (____/\\____/\\_/\\_/(____/\\_)(_/\n",
      "     __ _  _  _  __    __\n",
      "    (  ( \\/ )( \\(  )  (  )\n",
      "    /    /) \\/ (/ (_/\\/ (_/\\ \n",
      "    \\_)__)\\____/\\____/\\____/\n",
      "    \n"
     ]
    }
   ],
   "source": [
    "with open('new_passwords.csv', 'w') as new_passwords_obj:\n",
    "    slash_null_sig = '''\n",
    "     _  _     ___   __  ____\n",
    "    / )( \\   / __) /  \\(_  _)\n",
    "    ) \\/ (  ( (_ \\(  O ) )(\n",
    "    \\____/   \\___/ \\__/ (__)\n",
    "     _  _   __    ___  __ _  ____  ____\n",
    "    / )( \\ / _\\  / __)(  / )(  __)(    \\ \n",
    "    ) __ (/    \\( (__  )  (  ) _)  ) D (\n",
    "    \\_)(_/\\_/\\_/ \\___)(__\\_)(____)(____/\n",
    "            ____  __     __   ____  _  _\n",
    "     ___   / ___)(  )   / _\\ / ___)/ )( \\ \n",
    "    (___)  \\___ \\/ (_/\\/    .\\___ \\) __ (\n",
    "           (____/\\____/\\_/\\_/(____/\\_)(_/\n",
    "     __ _  _  _  __    __\n",
    "    (  ( \\/ )( \\(  )  (  )\n",
    "    /    /) \\/ (/ (_/\\/ (_/\\ \n",
    "    \\_)__)\\____/\\____/\\____/\n",
    "    '''\n",
    "    new_passwords_obj.write(slash_null_sig)\n",
    "    new_passwords_obj.close()\n",
    "    with open('new_passwords.csv') as testing:\n",
    "        print(testing.read())"
   ],
   "metadata": {
    "collapsed": false,
    "ExecuteTime": {
     "end_time": "2023-10-01T22:50:41.185049Z",
     "start_time": "2023-10-01T22:50:41.114426Z"
    }
   },
   "id": "312226af257087a4"
  },
  {
   "cell_type": "markdown",
   "source": [
    "19.\n",
    "What an incredible success! We’ll take care of moving the new passwords file over the old one in case you want to practice hacking The Fender in the future.\n",
    "\n",
    "Thank you for your service, programmer."
   ],
   "metadata": {
    "collapsed": false
   },
   "id": "fdbdc84b3c1f33e2"
  }
 ],
 "metadata": {
  "kernelspec": {
   "display_name": "Python 3",
   "language": "python",
   "name": "python3"
  },
  "language_info": {
   "codemirror_mode": {
    "name": "ipython",
    "version": 2
   },
   "file_extension": ".py",
   "mimetype": "text/x-python",
   "name": "python",
   "nbconvert_exporter": "python",
   "pygments_lexer": "ipython2",
   "version": "2.7.6"
  }
 },
 "nbformat": 4,
 "nbformat_minor": 5
}
