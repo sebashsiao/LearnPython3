{
 "cells": [
  {
   "cell_type": "code",
   "execution_count": 1,
   "id": "initial_id",
   "metadata": {
    "collapsed": true,
    "ExecuteTime": {
     "end_time": "2023-10-09T23:19:06.146470Z",
     "start_time": "2023-10-09T23:19:03.709829Z"
    }
   },
   "outputs": [
    {
     "name": "stdout",
     "output_type": "stream",
     "text": [
      "Hello world!\n"
     ]
    }
   ],
   "source": [
    "print('Hello world!')\n"
   ]
  },
  {
   "cell_type": "code",
   "execution_count": 2,
   "outputs": [],
   "source": [
    "a = [\"a\", \"b\", \"c\"]\n",
    "b = a[::-1]\n",
    "print(f'a = {a} \\nlist {a} reversed = {b}')"
   ],
   "metadata": {
    "collapsed": false,
    "ExecuteTime": {
     "end_time": "2023-10-09T23:19:06.146723Z",
     "start_time": "2023-10-09T23:19:03.717095Z"
    }
   },
   "id": "f7e436a6f02a8d36"
  },
  {
   "cell_type": "code",
   "execution_count": 3,
   "outputs": [
    {
     "name": "stdout",
     "output_type": "stream",
     "text": [
      "a = ['a', 'b', 'c'] \n",
      "list ['a', 'b', 'c'] reversed = ['c', 'b', 'a']\n"
     ]
    }
   ],
   "source": [],
   "metadata": {
    "collapsed": false,
    "ExecuteTime": {
     "end_time": "2023-10-09T23:19:06.147080Z",
     "start_time": "2023-10-09T23:19:03.723015Z"
    }
   },
   "id": "f780923115e952b8"
  }
 ],
 "metadata": {
  "kernelspec": {
   "display_name": "Python 3",
   "language": "python",
   "name": "python3"
  },
  "language_info": {
   "codemirror_mode": {
    "name": "ipython",
    "version": 2
   },
   "file_extension": ".py",
   "mimetype": "text/x-python",
   "name": "python",
   "nbconvert_exporter": "python",
   "pygments_lexer": "ipython2",
   "version": "2.7.6"
  }
 },
 "nbformat": 4,
 "nbformat_minor": 5
}
