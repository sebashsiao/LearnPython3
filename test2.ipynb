{
 "cells": [
  {
   "cell_type": "code",
   "execution_count": 1,
   "id": "initial_id",
   "metadata": {
    "collapsed": true,
    "ExecuteTime": {
     "end_time": "2023-10-09T23:54:31.505801Z",
     "start_time": "2023-10-09T23:54:31.500806Z"
    }
   },
   "outputs": [],
   "source": [
    "list1 = [4,2,0,7,3]"
   ]
  },
  {
   "cell_type": "code",
   "execution_count": 2,
   "outputs": [
    {
     "name": "stdout",
     "output_type": "stream",
     "text": [
      "[4, 2, 0, 7, 3] reversed --> [3, 7, 0, 2, 4]\n"
     ]
    }
   ],
   "source": [
    "list1_reversed = list1[::-1]\n",
    "print(f'{list1} reversed --> {list1_reversed}')"
   ],
   "metadata": {
    "collapsed": false,
    "ExecuteTime": {
     "end_time": "2023-10-09T23:55:28.544878Z",
     "start_time": "2023-10-09T23:55:28.448297Z"
    }
   },
   "id": "7f94afc2f161bc03"
  }
 ],
 "metadata": {
  "kernelspec": {
   "display_name": "Python 3",
   "language": "python",
   "name": "python3"
  },
  "language_info": {
   "codemirror_mode": {
    "name": "ipython",
    "version": 2
   },
   "file_extension": ".py",
   "mimetype": "text/x-python",
   "name": "python",
   "nbconvert_exporter": "python",
   "pygments_lexer": "ipython2",
   "version": "2.7.6"
  }
 },
 "nbformat": 4,
 "nbformat_minor": 5
}
