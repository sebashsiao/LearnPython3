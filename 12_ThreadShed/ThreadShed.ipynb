{
 "cells": [
  {
   "cell_type": "markdown",
   "id": "4b04d9fca97763",
   "metadata": {},
   "source": [
    "# Thread Shed"
   ]
  },
  {
   "cell_type": "markdown",
   "id": "40b6cb8f5420b6ca",
   "metadata": {},
   "source": [
    "You’ve recently been hired as a cashier at the local sewing hobby shop, ***Thread Shed***. Some of your daily responsibilities involve tallying the number of sales during the day, calculating the total amount of money made, and keeping track of the names of the customers.\n",
    "\n",
    "Unfortunately, the ***Thread Shed*** has an extremely outdated register system and stores all of the transaction information in one huge unwieldy string called `daily_sales`.\n",
    "\n",
    "All day, for each transaction, the name of the customer, amount spent, types of thread purchased, and the date of sale is all recorded in this same string. Your task is to use your Python skills to iterate through this string and clean up each transaction and store all the information in easier-to-access lists."
   ]
  },
  {
   "cell_type": "markdown",
   "id": "aea2269274131657",
   "metadata": {},
   "source": [
    "## Break up '' in easy to understand lists 'customers', 'sales', and 'thread_sold'.\n"
   ]
  },
  {
   "cell_type": "markdown",
   "id": "cad9c0937890dd2e",
   "metadata": {},
   "source": [
    "**1.** First, take a minute to inspect the string `daily_sales` in the code editor.\n",
    "\n",
    "How is each transaction stored? How is each piece of data within the transaction stored?\n",
    "\n",
    "Start thinking about how we can split up this string into its individual pieces of data."
   ]
  },
  {
   "cell_type": "code",
   "execution_count": 31,
   "id": "c3991ee9",
   "metadata": {
    "ExecuteTime": {
     "end_time": "2023-09-27T05:23:40.109943Z",
     "start_time": "2023-09-27T05:23:39.410799Z"
    },
    "scrolled": true,
    "slideshow": {
     "slide_type": "-"
    }
   },
   "outputs": [],
   "source": [
    "daily_sales = \\\n",
    "\"\"\"Edith Mcbride   ;,;$1.21   ;,;   white ;,; \n",
    "09/15/17   ,Herbert Tran   ;,;   $7.29;,; \n",
    "white&blue;,;   09/15/17 ,Paul Clarke ;,;$12.52 \n",
    ";,;   white&blue ;,; 09/15/17 ,Lucille Caldwell   \n",
    ";,;   $5.13   ;,; white   ;,; 09/15/17,\n",
    "Eduardo George   ;,;$20.39;,; white&yellow \n",
    ";,;09/15/17   ,   Danny Mclaughlin;,;$30.82;,;   \n",
    "purple ;,;09/15/17 ,Stacy Vargas;,; $1.85   ;,; \n",
    "purple&yellow ;,;09/15/17,   Shaun Brock;,; \n",
    "$17.98;,;purple&yellow ;,; 09/15/17 , \n",
    "Erick Harper ;,;$17.41;,; blue ;,; 09/15/17, \n",
    "Michelle Howell ;,;$28.59;,; blue;,;   09/15/17   , \n",
    "Carroll Boyd;,; $14.51;,;   purple&blue   ;,;   \n",
    "09/15/17   , Teresa Carter   ;,; $19.64 ;,; \n",
    "white;,;09/15/17   ,   Jacob Kennedy ;,; $11.40   \n",
    ";,; white&red   ;,; 09/15/17, Craig Chambers;,; \n",
    "$8.79 ;,; white&blue&red   ;,;09/15/17   , Peggy Bell;,; $8.65 ;,;blue   ;,; 09/15/17,   Kenneth Cunningham ;,;   $10.53;,;   green&blue   ;,; \n",
    "09/15/17   ,   Marvin Morgan;,;   $16.49;,; \n",
    "green&blue&red   ;,;   09/15/17 ,Marjorie Russell \n",
    ";,; $6.55 ;,;   green&blue&red;,;   09/15/17 ,\n",
    "Israel Cummings;,;   $11.86   ;,;black;,;  \n",
    "09/15/17,   June Doyle   ;,;   $22.29 ;,;  \n",
    "black&yellow ;,;09/15/17 , Jaime Buchanan   ;,;   \n",
    "$8.35;,;   white&black&yellow   ;,;   09/15/17,   \n",
    "Rhonda Farmer;,;$2.91 ;,;   white&black&yellow   \n",
    ";,;09/15/17, Darren Mckenzie ;,;$22.94;,;green \n",
    ";,;09/15/17,Rufus Malone;,;$4.70   ;,; green&yellow \n",
    ";,; 09/15/17   ,Hubert Miles;,;   $3.59   \n",
    ";,;green&yellow&blue;,;   09/15/17   , Joseph Bridges  ;,;$5.66   ;,; green&yellow&purple&blue \n",
    ";,;   09/15/17 , Sergio Murphy   ;,;$17.51   ;,;   \n",
    "black   ;,;   09/15/17 , Audrey Ferguson ;,; \n",
    "$5.54;,;black&blue   ;,;09/15/17 ,Edna Williams ;,; \n",
    "$17.13;,; black&blue;,;   09/15/17,   Randy Fleming;,;   $21.13 ;,;black ;,;09/15/17 ,Elisa Hart;,; $0.35   ;,; black&purple;,;   09/15/17   ,\n",
    "Ernesto Hunt ;,; $13.91   ;,;   black&purple ;,;   \n",
    "09/15/17,   Shannon Chavez   ;,;$19.26   ;,; \n",
    "yellow;,; 09/15/17   , Sammy Cain;,; $5.45;,;   \n",
    "yellow&red ;,;09/15/17 ,   Steven Reeves ;,;$5.50   \n",
    ";,;   yellow;,;   09/15/17, Ruben Jones   ;,; \n",
    "$14.56 ;,;   yellow&blue;,;09/15/17 , Essie Hansen;,;   $7.33   ;,;   yellow&blue&red\n",
    ";,; 09/15/17   ,   Rene Hardy   ;,; $20.22   ;,; \n",
    "black ;,;   09/15/17 ,   Lucy Snyder   ;,; $8.67   \n",
    ";,;black&red  ;,; 09/15/17 ,Dallas Obrien ;,;   \n",
    "$8.31;,;   black&red ;,;   09/15/17,   Stacey Payne \n",
    ";,;   $15.70   ;,;   white&black&red ;,;09/15/17   \n",
    ",   Tanya Cox   ;,;   $6.74   ;,;yellow   ;,; \n",
    "09/15/17 , Melody Moran ;,;   $30.84   \n",
    ";,;yellow&black;,;   09/15/17 , Louise Becker   ;,; \n",
    "$12.31 ;,; green&yellow&black;,;   09/15/17 ,\n",
    "Ryan Webster;,;$2.94 ;,; yellow ;,; 09/15/17 \n",
    ",Justin Blake ;,; $22.46   ;,;white&yellow ;,;   \n",
    "09/15/17,   Beverly Baldwin ;,;   $6.60;,;   \n",
    "white&yellow&black ;,;09/15/17   ,   Dale Brady   \n",
    ";,;   $6.27 ;,; yellow   ;,;09/15/17 ,Guadalupe Potter ;,;$21.12   ;,; yellow;,; 09/15/17   , \n",
    "Desiree Butler ;,;$2.10   ;,;white;,; 09/15/17  \n",
    ",Sonja Barnett ;,; $14.22 ;,;white&black;,;   \n",
    "09/15/17, Angelica Garza;,;$11.60;,;white&black   \n",
    ";,;   09/15/17   ,   Jamie Welch   ;,; $25.27   ;,; \n",
    "white&black&red ;,;09/15/17   ,   Rex Hudson   \n",
    ";,;$8.26;,;   purple;,; 09/15/17 ,   Nadine Gibbs \n",
    ";,;   $30.80 ;,;   purple&yellow   ;,; 09/15/17   , \n",
    "Hannah Pratt;,;   $22.61   ;,;   purple&yellow   \n",
    ";,;09/15/17,Gayle Richards;,;$22.19 ;,; \n",
    "green&purple&yellow ;,;09/15/17   ,Stanley Holland \n",
    ";,; $7.47   ;,; red ;,; 09/15/17 , Anna Dean;,;$5.49 ;,; yellow&red ;,;   09/15/17   ,\n",
    "Terrance Saunders ;,;   $23.70  ;,;green&yellow&red \n",
    ";,; 09/15/17 ,   Brandi Zimmerman ;,; $26.66 ;,; \n",
    "red   ;,;09/15/17 ,Guadalupe Freeman ;,; $25.95;,; \n",
    "green&red ;,;   09/15/17   ,Irving Patterson \n",
    ";,;$19.55 ;,; green&white&red ;,;   09/15/17 ,Karl Ross;,;   $15.68;,;   white ;,;   09/15/17 , Brandy Cortez ;,;$23.57;,;   white&red   ;,;09/15/17, \n",
    "Mamie Riley   ;,;$29.32;,; purple;,;09/15/17 ,Mike Thornton   ;,; $26.44 ;,;   purple   ;,; 09/15/17, \n",
    "Jamie Vaughn   ;,; $17.24;,;green ;,; 09/15/17   , \n",
    "Noah Day ;,;   $8.49   ;,;green   ;,;09/15/17   \n",
    ",Josephine Keller ;,;$13.10 ;,;green;,;   09/15/17 ,   Tracey Wolfe;,;$20.39 ;,; red   ;,; 09/15/17 ,\n",
    "Ignacio Parks;,;$14.70   ;,; white&red ;,;09/15/17 \n",
    ", Beatrice Newman ;,;$22.45   ;,;white&purple&red \n",
    ";,;   09/15/17, Andre Norris   ;,;   $28.46   ;,;   \n",
    "red;,;   09/15/17 ,   Albert Lewis ;,; $23.89;,;   \n",
    "black&red;,; 09/15/17,   Javier Bailey   ;,;   \n",
    "$24.49   ;,; black&red ;,; 09/15/17   , Everett Lyons ;,;$1.81;,;   black&red ;,; 09/15/17 ,   \n",
    "Abraham Maxwell;,; $6.81   ;,;green;,;   09/15/17   \n",
    ",   Traci Craig ;,;$0.65;,; green&yellow;,; \n",
    "09/15/17 , Jeffrey Jenkins   ;,;$26.45;,; \n",
    "green&yellow&blue   ;,;   09/15/17,   Merle Wilson \n",
    ";,;   $7.69 ;,; purple;,; 09/15/17,Janis Franklin   \n",
    ";,;$8.74   ;,; purple&black   ;,;09/15/17 ,  \n",
    "Leonard Guerrero ;,;   $1.86   ;,;yellow  \n",
    ";,;09/15/17,Lana Sanchez;,;$14.75   ;,; yellow;,;   \n",
    "09/15/17   ,Donna Ball ;,; $28.10  ;,; \n",
    "yellow&blue;,;   09/15/17   , Terrell Barber   ;,; \n",
    "$9.91   ;,; green ;,;09/15/17   ,Jody Flores;,; \n",
    "$16.34 ;,; green ;,;   09/15/17,   Daryl Herrera \n",
    ";,;$27.57;,; white;,;   09/15/17   , Miguel Mcguire;,;$5.25;,; white&blue   ;,;   09/15/17 ,   \n",
    "Rogelio Gonzalez;,; $9.51;,;   white&black&blue   \n",
    ";,;   09/15/17   ,   Lora Hammond ;,;$20.56 ;,; \n",
    "green;,;   09/15/17,Owen Ward;,; $21.64   ;,;   \n",
    "green&yellow;,;09/15/17,Malcolm Morales ;,;   \n",
    "$24.99   ;,;   green&yellow&black;,; 09/15/17 ,   \n",
    "Eric Mcdaniel ;,;$29.70;,; green ;,; 09/15/17 \n",
    ",Madeline Estrada;,;   $15.52;,;green;,;   09/15/17 \n",
    ", Leticia Manning;,;$15.70 ;,; green&purple;,; \n",
    "09/15/17 ,   Mario Wallace ;,; $12.36 ;,;green ;,; \n",
    "09/15/17,Lewis Glover;,;   $13.66   ;,;   \n",
    "green&white;,;09/15/17,   Gail Phelps   ;,;$30.52   \n",
    ";,; green&white&blue   ;,; 09/15/17 , Myrtle Morris \n",
    ";,;   $22.66   ;,; green&white&blue;,;09/15/17\"\"\""
   ]
  },
  {
   "cell_type": "markdown",
   "id": "fe1e85972a0d4601",
   "metadata": {},
   "source": [
    "___\n",
    "---\n",
    "***"
   ]
  },
  {
   "cell_type": "code",
   "execution_count": 32,
   "id": "836ecf11827311b5",
   "metadata": {
    "ExecuteTime": {
     "end_time": "2023-09-27T05:23:40.110382Z",
     "start_time": "2023-09-27T05:23:39.436564Z"
    },
    "scrolled": true
   },
   "outputs": [
    {
     "name": "stdout",
     "output_type": "stream",
     "text": [
      "Edith Mcbride   ;,;$1.21   ;,;   white ;,; \n",
      "09/15/17   ,Herbert Tran   ;,;   $7.29;,; \n",
      "white&blue;,;\n",
      "5780\n"
     ]
    }
   ],
   "source": [
    "print(daily_sales[:100])\n",
    "print(len(daily_sales))"
   ]
  },
  {
   "cell_type": "markdown",
   "id": "cb22058091863f1f",
   "metadata": {},
   "source": [
    "**2.** It looks like each transaction is separated from the next transaction by a `,`, and then each piece of data within a transaction is separated by the artifact `;,;`.\n",
    "\n",
    "If we want to split up `daily_sales` into a list of individual transactions, we are going to want to split by `,`, but first, we need to replace the artifact `;,;` to something *without* a comma, so we don’t split any transactions themselves.\n",
    "\n",
    "Replace all the instances of `;,;` in `daily_sales` with some other character and save the result to `daily_sales_replaced`."
   ]
  },
  {
   "cell_type": "code",
   "execution_count": 33,
   "id": "e1e2f14d129cb09c",
   "metadata": {
    "ExecuteTime": {
     "end_time": "2023-09-27T05:23:40.110556Z",
     "start_time": "2023-09-27T05:23:39.459961Z"
    },
    "scrolled": true
   },
   "outputs": [],
   "source": [
    "daily_sales_replaced = daily_sales.replace(\";,;\", \";\")"
   ]
  },
  {
   "cell_type": "markdown",
   "id": "3d5c02040224e7be",
   "metadata": {},
   "source": [
    "**3.** Now we can split the string into a list of each individual transaction.\n",
    "\n",
    "Split `daily_sales_replaced` around commas and save it to a new list `daily_transactions`."
   ]
  },
  {
   "cell_type": "code",
   "execution_count": 34,
   "id": "e6241f26f75daee1",
   "metadata": {
    "ExecuteTime": {
     "end_time": "2023-09-27T05:23:40.110682Z",
     "start_time": "2023-09-27T05:23:39.483431Z"
    },
    "scrolled": true
   },
   "outputs": [],
   "source": [
    "daily_transactions = daily_sales_replaced.split(\",\")"
   ]
  },
  {
   "cell_type": "markdown",
   "id": "684f50e2b9fc9863",
   "metadata": {},
   "source": [
    "**4.** Print `daily_transactions`.\n",
    "\n",
    "How does it look?"
   ]
  },
  {
   "cell_type": "code",
   "execution_count": 35,
   "id": "29488237d0c85c28",
   "metadata": {
    "ExecuteTime": {
     "end_time": "2023-09-27T05:23:40.111961Z",
     "start_time": "2023-09-27T05:23:39.495938Z"
    },
    "scrolled": false
   },
   "outputs": [
    {
     "name": "stdout",
     "output_type": "stream",
     "text": [
      "['Edith Mcbride   ;$1.21   ;   white ; \\n09/15/17   ']\n"
     ]
    }
   ],
   "source": [
    "print(daily_transactions[:1])"
   ]
  },
  {
   "cell_type": "markdown",
   "id": "5699a56b5892d075",
   "metadata": {},
   "source": [
    "**5.** Our next step is to split each individual transaction into a list of its data points.\n",
    "\n",
    "First, define an empty list `daily_transactions_split`"
   ]
  },
  {
   "cell_type": "code",
   "execution_count": 36,
   "id": "a1f21d7b7d70d728",
   "metadata": {
    "ExecuteTime": {
     "end_time": "2023-09-27T05:23:40.112176Z",
     "start_time": "2023-09-27T05:23:39.520383Z"
    },
    "scrolled": true
   },
   "outputs": [],
   "source": [
    "daily_transactions_split = []"
   ]
  },
  {
   "cell_type": "markdown",
   "id": "94417f55009db686",
   "metadata": {},
   "source": [
    "**6.** Now, iterate through `daily_transactions`(remember, this is a list of strings currently), and for each transaction, split the string around whatever character you replaced the `;,;` artifacts with in **Step 2**.\n",
    "\n",
    "Append each of these split strings (which are lists now) to our new list `daily_transactions_split`."
   ]
  },
  {
   "cell_type": "code",
   "execution_count": 37,
   "id": "99b2b52081b6dc75",
   "metadata": {
    "ExecuteTime": {
     "end_time": "2023-09-27T05:23:40.112328Z",
     "start_time": "2023-09-27T05:23:39.533082Z"
    },
    "scrolled": true
   },
   "outputs": [],
   "source": [
    "for i in daily_transactions:\n",
    "  daily_transactions_split.append(i.split(';'))"
   ]
  },
  {
   "cell_type": "code",
   "execution_count": 38,
   "id": "b7355cd9a7d40406",
   "metadata": {
    "ExecuteTime": {
     "end_time": "2023-09-27T05:23:40.112623Z",
     "start_time": "2023-09-27T05:23:39.550085Z"
    },
    "scrolled": true
   },
   "outputs": [],
   "source": [
    "# # Using list comprehension instead\n",
    "# daily_transactions_split = [ i.split(\";\") for i in daily_transactions]"
   ]
  },
  {
   "cell_type": "markdown",
   "id": "5a80ca9f95d158dd",
   "metadata": {},
   "source": [
    "**7.** Print `daily_transactions_split`.\n",
    "\n",
    "How’s it looking?"
   ]
  },
  {
   "cell_type": "code",
   "execution_count": 39,
   "id": "faa565eb42da3b27",
   "metadata": {
    "ExecuteTime": {
     "end_time": "2023-09-27T05:23:40.113142Z",
     "start_time": "2023-09-27T05:23:39.566166Z"
    },
    "scrolled": true
   },
   "outputs": [
    {
     "name": "stdout",
     "output_type": "stream",
     "text": [
      "[['Edith Mcbride   ', '$1.21   ', '   white ', ' \\n09/15/17   '], ['Herbert Tran   ', '   $7.29', ' \\nwhite&blue', '   09/15/17 ']]\n"
     ]
    }
   ],
   "source": [
    "print(daily_transactions_split[:2])\n"
   ]
  },
  {
   "cell_type": "markdown",
   "id": "321ef5a410e41bea",
   "metadata": {},
   "source": [
    "**8.** It looks like each data item has inconsistent whitespace around it. First, define an empty list `transactions_clean`.\n",
    "\n",
    "Now, Iterate through `daily_transactions_split` and for each transaction iterate through the different data points and strip off any whitespace.\n",
    "\n",
    "Add each of these cleaned up transactions to the new list `transactions_clean`."
   ]
  },
  {
   "cell_type": "code",
   "execution_count": 40,
   "id": "e23284f150affb05",
   "metadata": {
    "ExecuteTime": {
     "end_time": "2023-09-27T05:23:40.113334Z",
     "start_time": "2023-09-27T05:23:39.594678Z"
    },
    "scrolled": true
   },
   "outputs": [],
   "source": [
    "transactions_clean = []\n",
    "for i in daily_transactions_split:\n",
    "  for j in i:\n",
    "    transactions_clean.append(j.strip())"
   ]
  },
  {
   "cell_type": "markdown",
   "id": "a8cc43c89fd28cfe",
   "metadata": {},
   "source": [
    "**9.** Print `transactions_clean`.\n",
    "\n",
    "If you performed the last step correctly, you shouldn’t see any unnecessary whitespace."
   ]
  },
  {
   "cell_type": "code",
   "execution_count": 41,
   "id": "26b695307b9e32c",
   "metadata": {
    "ExecuteTime": {
     "end_time": "2023-09-27T05:23:40.113597Z",
     "start_time": "2023-09-27T05:23:39.616417Z"
    },
    "scrolled": true
   },
   "outputs": [
    {
     "name": "stdout",
     "output_type": "stream",
     "text": [
      "['Edith Mcbride', '$1.21', 'white', '09/15/17', 'Herbert Tran', '$7.29', 'white&blue', '09/15/17']\n"
     ]
    }
   ],
   "source": [
    "print(transactions_clean[:8])"
   ]
  },
  {
   "cell_type": "markdown",
   "id": "9c75ac4b3c12d20a",
   "metadata": {},
   "source": [
    "**10.** Create three empty lists. `customers`, `sales`, and `thread_sold. We are going to collect the individual data points for each transaction in these lists."
   ]
  },
  {
   "cell_type": "code",
   "execution_count": 42,
   "id": "b77b53a7752f3d49",
   "metadata": {
    "ExecuteTime": {
     "end_time": "2023-09-27T05:23:40.113878Z",
     "start_time": "2023-09-27T05:23:39.642770Z"
    },
    "scrolled": true
   },
   "outputs": [],
   "source": [
    "customers = []\n",
    "sales = []\n",
    "thread_sold = []"
   ]
  },
  {
   "cell_type": "markdown",
   "id": "309ca958cdc61508",
   "metadata": {},
   "source": [
    "**11.** Now, iterate through `transactions_clean` and for each transaction:\n",
    "\n",
    "1. Append the customers name to `customers`.\n",
    "2. Append the amount of the sale to `sales`.\n",
    "3. Append the threads sold to `thread_sold`."
   ]
  },
  {
   "cell_type": "code",
   "execution_count": 43,
   "id": "8fb4e8eb6ed4551b",
   "metadata": {
    "ExecuteTime": {
     "end_time": "2023-09-27T05:23:40.114108Z",
     "start_time": "2023-09-27T05:23:39.655461Z"
    },
    "scrolled": true
   },
   "outputs": [],
   "source": [
    "for i in range(0, len(transactions_clean), 4):\n",
    "  customers.append(transactions_clean[i])\n",
    "for i in range(1, len(transactions_clean), 4):\n",
    "  sales.append(transactions_clean[i])\n",
    "for i in range(2, len(transactions_clean), 4):\n",
    "  thread_sold.append(transactions_clean[i])\n"
   ]
  },
  {
   "cell_type": "markdown",
   "id": "bc592ed8bb71cbce",
   "metadata": {},
   "source": [
    "\n",
    "**12.** Print `customers`, `sales`, and `thread_sold` to make sure each list is what you are expected."
   ]
  },
  {
   "cell_type": "code",
   "execution_count": 44,
   "id": "fc02befc99b4ce6e",
   "metadata": {
    "ExecuteTime": {
     "end_time": "2023-09-27T05:23:40.114393Z",
     "start_time": "2023-09-27T05:23:39.687003Z"
    },
    "scrolled": false
   },
   "outputs": [
    {
     "name": "stdout",
     "output_type": "stream",
     "text": [
      "['Edith Mcbride', 'Herbert Tran', 'Paul Clarke']\n",
      "['$1.21', '$7.29', '$12.52']\n",
      "['white', 'white&blue', 'white&blue']\n"
     ]
    }
   ],
   "source": [
    "print(customers[:3])\n",
    "print(sales[:3])\n",
    "print(thread_sold[:3])"
   ]
  },
  {
   "cell_type": "markdown",
   "id": "6592922de470f698",
   "metadata": {},
   "source": [
    "## Determine the total value of the days sales."
   ]
  },
  {
   "cell_type": "markdown",
   "id": "f9bcb98fa79e881c",
   "metadata": {},
   "source": [
    "**13.** Now we want to know how much *Thread Shed* made in a day.\n",
    "\n",
    "First, define a variable called `total_sales` and set it equal to `0`."
   ]
  },
  {
   "cell_type": "code",
   "execution_count": 45,
   "id": "2bf8b0020aef322",
   "metadata": {
    "ExecuteTime": {
     "end_time": "2023-09-27T05:23:40.114525Z",
     "start_time": "2023-09-27T05:23:39.708851Z"
    },
    "scrolled": true
   },
   "outputs": [],
   "source": [
    "total_sales = 0"
   ]
  },
  {
   "cell_type": "markdown",
   "id": "5e00866f379984e1",
   "metadata": {},
   "source": [
    "**14.** Now, consider the list `sales`. It is a list of strings that we want to sum. In order for us to sum these values, we will have to remove the `$`, and set them equal to floats. \n",
    "\n",
    "Iterate through `sales` and for each item, strip off the `$`, set it equal to a float, and add it to `total_sales`"
   ]
  },
  {
   "cell_type": "code",
   "execution_count": 46,
   "id": "6c494138f813befe",
   "metadata": {
    "ExecuteTime": {
     "end_time": "2023-09-27T05:23:40.114645Z",
     "start_time": "2023-09-27T05:23:39.732787Z"
    },
    "scrolled": true
   },
   "outputs": [],
   "source": [
    "for i in sales:\n",
    "  total_sales += float(i.strip(\"$\"))"
   ]
  },
  {
   "cell_type": "markdown",
   "id": "f3d04d80bdaed2d6",
   "metadata": {},
   "source": [
    "**15.** Print `total_sales`.\n",
    "\n",
    "How much did we make today?"
   ]
  },
  {
   "cell_type": "code",
   "execution_count": 47,
   "id": "e2ff9d94c316581d",
   "metadata": {
    "ExecuteTime": {
     "end_time": "2023-09-27T05:23:40.114878Z",
     "start_time": "2023-09-27T05:23:39.744945Z"
    },
    "scrolled": true
   },
   "outputs": [
    {
     "name": "stdout",
     "output_type": "stream",
     "text": [
      "1498.7400000000005\n"
     ]
    }
   ],
   "source": [
    "print(total_sales)"
   ]
  },
  {
   "cell_type": "markdown",
   "id": "16a287eef7eb2be0",
   "metadata": {},
   "source": [
    "## How much thread of any specific color was sold?"
   ]
  },
  {
   "cell_type": "markdown",
   "id": "2da937246d6555be",
   "metadata": {},
   "source": [
    "**16.** Finally, we want to determine how many of each color thread we sold today. Let’s start with a single color, and then we’ll generalize it.\n",
    "\n",
    "First, print out `thread_sold` and inspect it."
   ]
  },
  {
   "cell_type": "code",
   "execution_count": 48,
   "id": "ba003f3c4388548",
   "metadata": {
    "ExecuteTime": {
     "end_time": "2023-09-27T05:23:40.134715Z",
     "start_time": "2023-09-27T05:23:39.761467Z"
    },
    "scrolled": true
   },
   "outputs": [
    {
     "name": "stdout",
     "output_type": "stream",
     "text": [
      "['white', 'white&blue', 'white&blue', 'white', 'white&yellow', 'purple', 'purple&yellow', 'purple&yellow', 'blue', 'blue', 'purple&blue', 'white', 'white&red', 'white&blue&red', 'blue', 'green&blue', 'green&blue&red', 'green&blue&red', 'black', 'black&yellow', 'white&black&yellow', 'white&black&yellow', 'green', 'green&yellow', 'green&yellow&blue', 'green&yellow&purple&blue', 'black', 'black&blue', 'black&blue', 'black', 'black&purple', 'black&purple', 'yellow', 'yellow&red', 'yellow', 'yellow&blue', 'yellow&blue&red', 'black', 'black&red', 'black&red', 'white&black&red', 'yellow', 'yellow&black', 'green&yellow&black', 'yellow', 'white&yellow', 'white&yellow&black', 'yellow', 'yellow', 'white', 'white&black', 'white&black', 'white&black&red', 'purple', 'purple&yellow', 'purple&yellow', 'green&purple&yellow', 'red', 'yellow&red', 'green&yellow&red', 'red', 'green&red', 'green&white&red', 'white', 'white&red', 'purple', 'purple', 'green', 'green', 'green', 'red', 'white&red', 'white&purple&red', 'red', 'black&red', 'black&red', 'black&red', 'green', 'green&yellow', 'green&yellow&blue', 'purple', 'purple&black', 'yellow', 'yellow', 'yellow&blue', 'green', 'green', 'white', 'white&blue', 'white&black&blue', 'green', 'green&yellow', 'green&yellow&black', 'green', 'green', 'green&purple', 'green', 'green&white', 'green&white&blue', 'green&white&blue']\n"
     ]
    }
   ],
   "source": [
    "print(thread_sold)"
   ]
  },
  {
   "cell_type": "markdown",
   "id": "42db5fae1a87f3ad",
   "metadata": {},
   "source": [
    "**17.** We see that `thread_sold` is a list of strings, some are single colors and some are multiple colors separated by the `&` character.\n",
    "\n",
    "The end product we want here is a list that contains an item for each color thread sold, so no strings that have multiple colors in them.\n",
    "\n",
    "First, define an empty list `thread_sold_split`."
   ]
  },
  {
   "cell_type": "code",
   "execution_count": 49,
   "id": "8cf9c919a9e6b3e9",
   "metadata": {
    "ExecuteTime": {
     "end_time": "2023-09-27T05:23:40.135136Z",
     "start_time": "2023-09-27T05:23:39.783550Z"
    },
    "scrolled": true
   },
   "outputs": [],
   "source": [
    "thread_sold_split = []"
   ]
  },
  {
   "cell_type": "markdown",
   "id": "224e3bbf3494fe2d",
   "metadata": {},
   "source": [
    "**18.** Next, iterate through thread_sold. For each item, check if it is a single color or multiple colors. If it is a single color, append that color to `thread_sold_split`.\n",
    "\n",
    "If it is multiple colors, first split the string around the `&` character and then add each color individually to `thread_sold_split`."
   ]
  },
  {
   "cell_type": "code",
   "execution_count": 50,
   "id": "389e3e8f61b39dc1",
   "metadata": {
    "ExecuteTime": {
     "end_time": "2023-09-27T05:23:40.135349Z",
     "start_time": "2023-09-27T05:23:39.804115Z"
    },
    "scrolled": true
   },
   "outputs": [],
   "source": [
    "for i in thread_sold:\n",
    "  if \"&\" not in i:\n",
    "    thread_sold_split.append(i)\n",
    "  else:\n",
    "    \n",
    "    for j in i.split('&'):\n",
    "      thread_sold_split.append(j)"
   ]
  },
  {
   "cell_type": "code",
   "execution_count": 51,
   "id": "a765ff816cee7364",
   "metadata": {
    "ExecuteTime": {
     "end_time": "2023-09-27T05:23:40.135496Z",
     "start_time": "2023-09-27T05:23:39.818404Z"
    },
    "scrolled": true
   },
   "outputs": [],
   "source": [
    "# # Counting thread colors with dictionary\n",
    "# thread_sold_split = {}\n",
    "# for i in thread_sold:\n",
    "#   if i in thread_sold_split:\n",
    "#     thread_sold_split[i] += 1\n",
    "#   else:\n",
    "#     thread_sold_split[i] = 1"
   ]
  },
  {
   "cell_type": "code",
   "execution_count": 52,
   "id": "77f1279a3719e654",
   "metadata": {
    "ExecuteTime": {
     "end_time": "2023-09-27T05:23:40.135921Z",
     "start_time": "2023-09-27T05:23:39.843989Z"
    },
    "scrolled": true
   },
   "outputs": [
    {
     "name": "stdout",
     "output_type": "stream",
     "text": [
      "['white', 'white', 'blue', 'white', 'blue', 'white', 'white', 'yellow', 'purple', 'purple', 'yellow', 'purple', 'yellow', 'blue', 'blue', 'purple', 'blue', 'white', 'white', 'red', 'white', 'blue', 'red', 'blue', 'green', 'blue', 'green', 'blue', 'red', 'green', 'blue', 'red', 'black', 'black', 'yellow', 'white', 'black', 'yellow', 'white', 'black', 'yellow', 'green', 'green', 'yellow', 'green', 'yellow', 'blue', 'green', 'yellow', 'purple', 'blue', 'black', 'black', 'blue', 'black', 'blue', 'black', 'black', 'purple', 'black', 'purple', 'yellow', 'yellow', 'red', 'yellow', 'yellow', 'blue', 'yellow', 'blue', 'red', 'black', 'black', 'red', 'black', 'red', 'white', 'black', 'red', 'yellow', 'yellow', 'black', 'green', 'yellow', 'black', 'yellow', 'white', 'yellow', 'white', 'yellow', 'black', 'yellow', 'yellow', 'white', 'white', 'black', 'white', 'black', 'white', 'black', 'red', 'purple', 'purple', 'yellow', 'purple', 'yellow', 'green', 'purple', 'yellow', 'red', 'yellow', 'red', 'green', 'yellow', 'red', 'red', 'green', 'red', 'green', 'white', 'red', 'white', 'white', 'red', 'purple', 'purple', 'green', 'green', 'green', 'red', 'white', 'red', 'white', 'purple', 'red', 'red', 'black', 'red', 'black', 'red', 'black', 'red', 'green', 'green', 'yellow', 'green', 'yellow', 'blue', 'purple', 'purple', 'black', 'yellow', 'yellow', 'yellow', 'blue', 'green', 'green', 'white', 'white', 'blue', 'white', 'black', 'blue', 'green', 'green', 'yellow', 'green', 'yellow', 'black', 'green', 'green', 'green', 'purple', 'green', 'green', 'white', 'green', 'white', 'blue', 'green', 'white', 'blue']\n"
     ]
    }
   ],
   "source": [
    "print(thread_sold_split)"
   ]
  },
  {
   "cell_type": "markdown",
   "id": "615de5809c38e905",
   "metadata": {},
   "source": [
    "**19.** Great, now we have a list `thread_sold_split` that contains an entry with the color of every thread sold today.\n",
    "\n",
    "Define a function called `color_count` that takes one argument, `color`. The function should iterate through `thread_sold_split` and count the number of times the item is equal to argument, `color`. Then, it should return this count."
   ]
  },
  {
   "cell_type": "code",
   "execution_count": 53,
   "id": "c3d2b9638926f935",
   "metadata": {
    "ExecuteTime": {
     "end_time": "2023-09-27T05:23:40.136277Z",
     "start_time": "2023-09-27T05:23:39.861437Z"
    },
    "scrolled": true
   },
   "outputs": [],
   "source": [
    "def color_count(color):\n",
    "  count = 0\n",
    "  for i in thread_sold_split:\n",
    "    if i == color:\n",
    "      count += 1\n",
    "  return count"
   ]
  },
  {
   "cell_type": "markdown",
   "id": "979c488fa9cc3b6f",
   "metadata": {},
   "source": [
    "**20.** Test your new function by running `color_count('white')`.\n",
    "\n",
    "Your function should return `28`."
   ]
  },
  {
   "cell_type": "code",
   "execution_count": 54,
   "id": "429d1db94657dc45",
   "metadata": {
    "ExecuteTime": {
     "end_time": "2023-09-27T05:23:40.136648Z",
     "start_time": "2023-09-27T05:23:39.873918Z"
    },
    "scrolled": true
   },
   "outputs": [
    {
     "name": "stdout",
     "output_type": "stream",
     "text": [
      "28\n"
     ]
    }
   ],
   "source": [
    "print(color_count('white'))"
   ]
  },
  {
   "cell_type": "markdown",
   "id": "101afb5a0110f3b4",
   "metadata": {},
   "source": [
    "**21.** Define a list called `colors` that stores all of the colored threads that Thread Shed offers:\n",
    "\n",
    "```python\n",
    "colors = ['red', 'yellow', 'green', 'white', 'black', 'blue', 'purple']\n",
    "```"
   ]
  },
  {
   "cell_type": "code",
   "execution_count": 55,
   "id": "435d0c950d1aa2f7",
   "metadata": {
    "ExecuteTime": {
     "end_time": "2023-09-27T05:23:40.136844Z",
     "start_time": "2023-09-27T05:23:39.904757Z"
    },
    "scrolled": true
   },
   "outputs": [],
   "source": [
    "colors = ['red', 'yellow', 'green', 'white', 'black', 'blue', 'purple']"
   ]
  },
  {
   "cell_type": "markdown",
   "id": "f75d91baede4eb37",
   "metadata": {},
   "source": [
    "**22.** Now, using the string method `.format()` and the function `color_count()`, iterate through the list `colors` and print a sentence that says how many threads of each color were sold today."
   ]
  },
  {
   "cell_type": "code",
   "execution_count": 56,
   "id": "8f68a61359119437",
   "metadata": {
    "ExecuteTime": {
     "end_time": "2023-09-27T05:23:40.137114Z",
     "start_time": "2023-09-27T05:23:39.923997Z"
    },
    "scrolled": true
   },
   "outputs": [
    {
     "name": "stdout",
     "output_type": "stream",
     "text": [
      "Thread Shed sold 24 threads of \"RED\" thread today.\n",
      "Thread Shed sold 34 threads of \"YELLOW\" thread today.\n",
      "Thread Shed sold 30 threads of \"GREEN\" thread today.\n",
      "Thread Shed sold 28 threads of \"WHITE\" thread today.\n",
      "Thread Shed sold 26 threads of \"BLACK\" thread today.\n",
      "Thread Shed sold 22 threads of \"BLUE\" thread today.\n",
      "Thread Shed sold 17 threads of \"PURPLE\" thread today.\n"
     ]
    }
   ],
   "source": [
    "for color in colors:\n",
    "  count = color_count(color)\n",
    "  print('Thread Shed sold {} threads of \\\"{}\\\" thread today.'.format(count, color.upper()))\n"
   ]
  },
  {
   "cell_type": "code",
   "execution_count": null,
   "id": "89a1cf123905df2c",
   "metadata": {
    "ExecuteTime": {
     "end_time": "2023-09-27T05:23:40.137251Z",
     "start_time": "2023-09-27T05:23:39.937903Z"
    },
    "scrolled": true
   },
   "outputs": [],
   "source": []
  }
 ],
 "metadata": {
  "kernelspec": {
   "display_name": "Python 3 (ipykernel)",
   "language": "python",
   "name": "python3"
  },
  "language_info": {
   "codemirror_mode": {
    "name": "ipython",
    "version": 3
   },
   "file_extension": ".py",
   "mimetype": "text/x-python",
   "name": "python",
   "nbconvert_exporter": "python",
   "pygments_lexer": "ipython3",
   "version": "3.10.11"
  }
 },
 "nbformat": 4,
 "nbformat_minor": 5
}
