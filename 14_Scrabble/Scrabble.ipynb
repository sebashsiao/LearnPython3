{
 "cells": [
  {
   "cell_type": "markdown",
   "id": "2429c06a9e36b3ea",
   "metadata": {},
   "source": [
    "Objective\n",
    "LEARN PYTHON 3\n",
    "# Scrabble"
   ]
  },
  {
   "cell_type": "markdown",
   "id": "e8de6bee3f2c8b59",
   "metadata": {},
   "source": [
    "In this project, you will process some data from a group of friends playing scrabble. You will use dictionaries to organize players, words, and points.\n",
    "\n",
    "There are many ways you can extend this project on your own if you finish and want to get more practice!"
   ]
  },
  {
   "cell_type": "markdown",
   "id": "d1500d5445efb337",
   "metadata": {},
   "source": [
    "## Build your Point Dictionary\n",
    "\n",
    "1.We have provided you with two lists, `letters` and `points`. We would like to combine these two into a dictionary that would map a letter to its point value.\n",
    "\n",
    "Using a list comprehension and `zip`, create a dictionary called `letter_to_points` that has the elements of `letters` as the keys and the elements of `points as the values`."
   ]
  },
  {
   "cell_type": "code",
   "execution_count": 138,
   "outputs": [],
   "source": [
    "letters = [\"A\", \"B\", \"C\", \"D\", \"E\", \"F\", \"G\", \"H\", \"I\", \"J\", \"K\", \"L\", \"M\", \"N\", \"O\", \"P\", \"Q\", \"R\", \"S\", \"T\", \"U\", \"V\", \"W\", \"X\", \"Y\", \"Z\"]\n",
    "points = [1, 3, 3, 2, 1, 4, 2, 4, 1, 8, 5, 1, 3, 4, 1, 3, 10, 1, 1, 1, 1, 4, 4, 8, 4, 10]"
   ],
   "metadata": {
    "collapsed": false,
    "ExecuteTime": {
     "end_time": "2023-09-29T02:43:11.876811Z",
     "start_time": "2023-09-29T02:43:11.667958Z"
    }
   },
   "id": "ea06342fb39713c0"
  },
  {
   "cell_type": "code",
   "execution_count": 139,
   "outputs": [
    {
     "name": "stdout",
     "output_type": "stream",
     "text": [
      "{'A': 1, 'B': 3, 'C': 3, 'D': 2, 'E': 1, 'F': 4, 'G': 2, 'H': 4, 'I': 1, 'J': 8, 'K': 5, 'L': 1, 'M': 3, 'N': 4, 'O': 1, 'P': 3, 'Q': 10, 'R': 1, 'S': 1, 'T': 1, 'U': 1, 'V': 4, 'W': 4, 'X': 8, 'Y': 4, 'Z': 10}\n"
     ]
    }
   ],
   "source": [
    "letter_to_points = {key: value for key, value in zip(letters, points)}\n",
    "\n",
    "print(letter_to_points)"
   ],
   "metadata": {
    "collapsed": false,
    "ExecuteTime": {
     "end_time": "2023-09-29T02:43:11.877472Z",
     "start_time": "2023-09-29T02:43:11.679205Z"
    }
   },
   "id": "83bb205c56be2b12"
  },
  {
   "cell_type": "markdown",
   "source": [
    "2.Our `letters` list did not take into account blank tiles. Add an element to the `letter_to_points` dictionary that has a key of `\" \"` and a point value of `0`."
   ],
   "metadata": {
    "collapsed": false
   },
   "id": "dabb9fe68a46ea87"
  },
  {
   "cell_type": "code",
   "execution_count": 140,
   "outputs": [
    {
     "name": "stdout",
     "output_type": "stream",
     "text": [
      "{'A': 1, 'B': 3, 'C': 3, 'D': 2, 'E': 1, 'F': 4, 'G': 2, 'H': 4, 'I': 1, 'J': 8, 'K': 5, 'L': 1, 'M': 3, 'N': 4, 'O': 1, 'P': 3, 'Q': 10, 'R': 1, 'S': 1, 'T': 1, 'U': 1, 'V': 4, 'W': 4, 'X': 8, 'Y': 4, 'Z': 10, ' ': 0}\n"
     ]
    }
   ],
   "source": [
    "letter_to_points[' '] = 0\n",
    "\n",
    "print(letter_to_points)"
   ],
   "metadata": {
    "collapsed": false,
    "ExecuteTime": {
     "end_time": "2023-09-29T02:43:11.879714Z",
     "start_time": "2023-09-29T02:43:11.694203Z"
    }
   },
   "id": "f64a83a869398ee5"
  },
  {
   "cell_type": "markdown",
   "source": [
    "## Score a Word\n",
    "\n",
    "3.We want to create a function that will take in a word and return how many points that word is worth.\n",
    "\n",
    "Define a function called `score_word` that takes in a parameter `word`."
   ],
   "metadata": {
    "collapsed": false
   },
   "id": "b430a5b2c17e940f"
  },
  {
   "cell_type": "markdown",
   "source": [
    "4.Inside `score_word`, create a variable called `point_total` and set it to `0`."
   ],
   "metadata": {
    "collapsed": false
   },
   "id": "9aa498b3f54e280f"
  },
  {
   "cell_type": "markdown",
   "source": [
    "5.After defining `point_total`, create a for loop that goes through the letters in `word` and adds the point value of each letter to `point_total`.\n",
    "\n",
    "You should get the point value from the `letter_to_points` dictionary. If the letter you are checking for is not in `letter_to_points`, add `0` to the `point_total`."
   ],
   "metadata": {
    "collapsed": false
   },
   "id": "8be4cd7b654022e1"
  },
  {
   "cell_type": "markdown",
   "source": [
    "6.After the for loop is finished, return `point_total`."
   ],
   "metadata": {
    "collapsed": false
   },
   "id": "a7881faa43c1ffa8"
  },
  {
   "cell_type": "code",
   "execution_count": null,
   "outputs": [],
   "source": [
    "def score_word(word):\n",
    "    point_total = 0\n",
    "    for letter in word:\n",
    "        point_total += letter_to_points.get(letter, 0)\n",
    "    return point_total"
   ],
   "metadata": {
    "collapsed": false,
    "is_executing": true
   },
   "id": "71bc3c8b73cc4ec0"
  },
  {
   "cell_type": "markdown",
   "source": [
    "7.Let’s test this function! Create a variable called `brownie_points` and set it equal to the value returned by the `score_word()` function with an input of `\"BROWNIE\"`."
   ],
   "metadata": {
    "collapsed": false
   },
   "id": "b83e91bc5ce2b785"
  },
  {
   "cell_type": "code",
   "execution_count": null,
   "outputs": [],
   "source": [
    "brownie_points = score_word(\"BROWNIE\")"
   ],
   "metadata": {
    "collapsed": false,
    "is_executing": true
   },
   "id": "b6a3c1127d3b637f"
  },
  {
   "cell_type": "markdown",
   "source": [
    "8.We expect the word BROWNIE to earn 15 points:\n",
    "\n",
    "```py\n",
    "(B + R + O + W + N + I + E)\n",
    "\n",
    "(3 + 1 + 1 + 4 + 4 + 1 + 1) = 15\n",
    "```\n",
    "\n",
    "Let’s print out `brownie_points` to make sure we got it right."
   ],
   "metadata": {
    "collapsed": false
   },
   "id": "d478e3ebf877780e"
  },
  {
   "cell_type": "code",
   "execution_count": null,
   "outputs": [],
   "source": [
    "print(brownie_points)"
   ],
   "metadata": {
    "collapsed": false,
    "is_executing": true
   },
   "id": "3121c0831e65fea2"
  },
  {
   "cell_type": "markdown",
   "source": [
    "## Score a Game\n",
    "\n",
    "9.Create a dictionary called `player_to_words` that maps players to a list of the words they have played. This table represents the data to transcribe into your dictionary:\n",
    "\n",
    "|player1\t|wordNerd\t|Lexi Con\t|Prof Reader |\n",
    "| --------- | --------- | --------- | ---------- |\n",
    "|BLUE\t    |EARTH\t    |ERASER\t    |ZAP         |\n",
    "|TENNIS\t    |EYES\t    |BELLY\t    |COMA        |\n",
    "|EXIT\t    |MACHINE\t|HUSKY\t    |PERIOD      |\n"
   ],
   "metadata": {
    "collapsed": false
   },
   "id": "eb1c22af4fc2c085"
  },
  {
   "cell_type": "code",
   "execution_count": 144,
   "outputs": [
    {
     "name": "stdout",
     "output_type": "stream",
     "text": [
      "{'player1': ['BLUE', 'TENNIS', 'EXIT'], 'wordNerd': ['EARTH', 'EYES', 'MACHINE'], 'Lexi Con': ['ERASER', 'BELLY', 'HUSKY'], 'Prof Reader': ['ZAP', 'COMA', 'PERIOD']}\n"
     ]
    }
   ],
   "source": [
    "player_to_words = {\n",
    "  'player1': ['BLUE', 'TENNIS', 'EXIT'],\n",
    "  'wordNerd': ['EARTH', 'EYES', 'MACHINE'],\n",
    "  'Lexi Con': ['ERASER', 'BELLY', 'HUSKY'],\n",
    "  'Prof Reader': ['ZAP', 'COMA', 'PERIOD']\n",
    "}\n",
    "\n",
    "print(player_to_words)"
   ],
   "metadata": {
    "collapsed": false,
    "ExecuteTime": {
     "end_time": "2023-09-29T02:43:11.895758Z",
     "start_time": "2023-09-29T02:43:11.742216Z"
    }
   },
   "id": "74a009a1baf60e6d"
  },
  {
   "cell_type": "markdown",
   "source": [
    "10.Create an empty dictionary called `player_to_points`."
   ],
   "metadata": {
    "collapsed": false
   },
   "id": "1eed581bd1a71ca8"
  },
  {
   "cell_type": "markdown",
   "source": [
    "11.Iterate through the items in `player_to_words`. Call each player `player` and each list of words `words`.\n",
    "\n",
    "Within your loop, create a variable called `player_points` and set it to `0`."
   ],
   "metadata": {
    "collapsed": false
   },
   "id": "68aed273ba014997"
  },
  {
   "cell_type": "markdown",
   "source": [
    "12.Within the loop, create another loop that goes through each `word` in `words` and adds the value of `score_word()` with `word` as an input."
   ],
   "metadata": {
    "collapsed": false
   },
   "id": "343851401da99715"
  },
  {
   "cell_type": "markdown",
   "source": [
    "13.After the inner loop ends, set the current `player` value to be a key of `player_to_points`, with a value of `player_points`."
   ],
   "metadata": {
    "collapsed": false
   },
   "id": "6547df94a896200a"
  },
  {
   "cell_type": "code",
   "execution_count": 145,
   "outputs": [],
   "source": [
    "player_to_points = {}\n",
    "for player, words in player_to_words.items():\n",
    "    player_points = 0\n",
    "    for word in words:\n",
    "        player_points += score_word(word)\n",
    "    player_to_points[player] = player_points\n",
    "        "
   ],
   "metadata": {
    "collapsed": false,
    "ExecuteTime": {
     "end_time": "2023-09-29T02:43:11.908196Z",
     "start_time": "2023-09-29T02:43:11.757859Z"
    }
   },
   "id": "6be8f8e1ca79796c"
  },
  {
   "cell_type": "markdown",
   "source": [
    "14.`player_to_points` should now contain the mapping of players to how many points they’ve scored. Print this out to see the current standings for this game!\n",
    "\n",
    "If you’ve calculated correctly, wordNerd should be winning by 1 point."
   ],
   "metadata": {
    "collapsed": false
   },
   "id": "a25a495c791526b2"
  },
  {
   "cell_type": "code",
   "execution_count": 146,
   "outputs": [
    {
     "name": "stdout",
     "output_type": "stream",
     "text": [
      "{'player1': 29, 'wordNerd': 32, 'Lexi Con': 31, 'Prof Reader': 31}\n"
     ]
    }
   ],
   "source": [
    "print(player_to_points)"
   ],
   "metadata": {
    "collapsed": false,
    "ExecuteTime": {
     "end_time": "2023-09-29T02:43:11.908587Z",
     "start_time": "2023-09-29T02:43:11.772969Z"
    }
   },
   "id": "f2fb25041455807f"
  },
  {
   "cell_type": "markdown",
   "source": [
    "## Ideas for Further Practice!\n",
    "\n",
    "15.If you want extended practice, try to implement some of these ideas with the Python you’ve learned:\n",
    "\n",
    "* `play_word()` — a function that would take in a player and a word, and add that word to the list of words they’ve played\n",
    "* `update_point_totals()` — turn your nested loops into a function that you can call any time a word is played\n",
    "* make your `letter_to_points` dictionary able to handle lowercase inputs as well"
   ],
   "metadata": {
    "collapsed": false
   },
   "id": "e2c00e564162393b"
  },
  {
   "cell_type": "code",
   "execution_count": 147,
   "outputs": [
    {
     "name": "stdout",
     "output_type": "stream",
     "text": [
      "{'player1': ['BLUE', 'TENNIS', 'EXIT'], 'wordNerd': ['EARTH', 'EYES', 'MACHINE'], 'Lexi Con': ['ERASER', 'BELLY', 'HUSKY'], 'Prof Reader': ['ZAP', 'COMA', 'PERIOD']}\n",
      "{'player1': 29, 'wordNerd': 32, 'Lexi Con': 31, 'Prof Reader': 31}\n"
     ]
    }
   ],
   "source": [
    "player_to_points = {}\n",
    "def update_point_totals():\n",
    "    for player, words in player_to_words.items():\n",
    "        player_points = 0\n",
    "        for word in words:\n",
    "            player_points += score_word(word)\n",
    "        player_to_points[player] = player_points\n",
    "\n",
    "update_point_totals()\n",
    "print(player_to_words)\n",
    "print(player_to_points)"
   ],
   "metadata": {
    "collapsed": false,
    "ExecuteTime": {
     "end_time": "2023-09-29T02:43:11.908894Z",
     "start_time": "2023-09-29T02:43:11.792226Z"
    }
   },
   "id": "51b82ff7c3b5bb76"
  },
  {
   "cell_type": "code",
   "execution_count": 148,
   "id": "5823e7e256cb450d",
   "metadata": {
    "ExecuteTime": {
     "end_time": "2023-09-29T02:43:11.909073Z",
     "start_time": "2023-09-29T02:43:11.806718Z"
    }
   },
   "outputs": [],
   "source": [
    "def play_word(player, word):\n",
    "    player_to_words[player].append(word)\n",
    "    update_point_totals()"
   ]
  },
  {
   "cell_type": "code",
   "execution_count": 149,
   "outputs": [
    {
     "name": "stdout",
     "output_type": "stream",
     "text": [
      "{'player1': ['BLUE', 'TENNIS', 'EXIT', 'ORANGUTAN'], 'wordNerd': ['EARTH', 'EYES', 'MACHINE'], 'Lexi Con': ['ERASER', 'BELLY', 'HUSKY'], 'Prof Reader': ['ZAP', 'COMA', 'PERIOD']}\n",
      "{'player1': 45, 'wordNerd': 32, 'Lexi Con': 31, 'Prof Reader': 31}\n"
     ]
    }
   ],
   "source": [
    "play_word('player1', \"ORANGUTAN\")\n",
    "print(player_to_words)\n",
    "print(player_to_points)"
   ],
   "metadata": {
    "collapsed": false,
    "ExecuteTime": {
     "end_time": "2023-09-29T02:43:11.909415Z",
     "start_time": "2023-09-29T02:43:11.819369Z"
    }
   },
   "id": "332e3a8d454d4982"
  }
 ],
 "metadata": {
  "kernelspec": {
   "display_name": "Python 3 (ipykernel)",
   "language": "python",
   "name": "python3"
  },
  "language_info": {
   "codemirror_mode": {
    "name": "ipython",
    "version": 3
   },
   "file_extension": ".py",
   "mimetype": "text/x-python",
   "name": "python",
   "nbconvert_exporter": "python",
   "pygments_lexer": "ipython3",
   "version": "3.10.11"
  }
 },
 "nbformat": 4,
 "nbformat_minor": 5
}
